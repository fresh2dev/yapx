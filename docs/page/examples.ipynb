{
 "cells": [
  {
   "cell_type": "markdown",
   "id": "828c74ea-37d6-47a1-89d9-bd9be0df6bec",
   "metadata": {},
   "source": [
    "# Yapx Examples"
   ]
  },
  {
   "cell_type": "code",
   "execution_count": 1,
   "id": "baab8bf7",
   "metadata": {
    "tags": [
     "hidden"
    ]
   },
   "outputs": [],
   "source": [
    "import sys\n",
    "sys.argv[0] = \"awesome-app\""
   ]
  },
  {
   "cell_type": "code",
   "execution_count": 2,
   "id": "3d72d5bd-478c-47de-81bb-38927caeda92",
   "metadata": {},
   "outputs": [],
   "source": [
    "# Demo function\n",
    "\n",
    "def demo(\n",
    "    name: str,\n",
    "):\n",
    "    print(f\"Hello {name}\")\n",
    "\n",
    "# Demo subcommand\n",
    "\n",
    "def update_info(\n",
    "    age: int,\n",
    "    is_employed: bool,\n",
    "    net_worth: float = 0,\n",
    "    **kwargs,\n",
    "):\n",
    "    print(f\"age={age}; type={type(age).__name__}\")\n",
    "    print(f\"is_employed={is_employed}; type={type(is_employed).__name__}\")\n",
    "    print(f\"net_worth={net_worth}; type={type(net_worth).__name__}\")\n",
    "    print(f\"kwargs={kwargs}\")"
   ]
  },
  {
   "cell_type": "markdown",
   "id": "10eed97d-f8cc-45d7-b817-bb9499dac6d2",
   "metadata": {},
   "source": [
    "Create a parser and add arguments from the function `demo`:"
   ]
  },
  {
   "cell_type": "code",
   "execution_count": 3,
   "id": "e25a6e4a-d73f-4729-98e4-054ae986b121",
   "metadata": {},
   "outputs": [
    {
     "name": "stdout",
     "output_type": "stream",
     "text": [
      "\n",
      "________________________________________________________________________________\n",
      "\n",
      "$ awesome-app\n",
      "________________________________________________________________________________\n",
      "\n"
     ]
    },
    {
     "data": {
      "text/html": [
       "<pre style=\"white-space:pre;overflow-x:auto;line-height:normal;font-family:Menlo,'DejaVu Sans Mono',consolas,'Courier New',monospace\"></pre>\n"
      ],
      "text/plain": []
     },
     "metadata": {},
     "output_type": "display_data"
    },
    {
     "name": "stdout",
     "output_type": "stream",
     "text": [
      "\u001b[38;5;208mHelpful Parameters:\u001b[0m\n",
      "  \u001b[36m--help\u001b[0m, \u001b[36m-h\u001b[0m            \u001b[39mShow this help message.\u001b[0m\n",
      "  \u001b[36m--help-all\u001b[0m            \u001b[39mShow help for all commands.\u001b[0m\n",
      "  \u001b[36m--print-shell-completion\u001b[0m \u001b[38;5;36m{bash,zsh,tcsh}\u001b[0m\n",
      "                        \u001b[39mPrint shell completion script.\u001b[0m\n",
      "  \u001b[36m--tui\u001b[0m                 \u001b[39mShow Textual User Interface (TUI).\u001b[0m\n",
      "\n",
      "\u001b[38;5;208mRequired Parameters:\u001b[0m\n",
      "  \u001b[36m--name\u001b[0m \u001b[38;5;36m<value>\u001b[0m\n",
      "\n"
     ]
    },
    {
     "data": {
      "text/html": [
       "<pre style=\"white-space:pre;overflow-x:auto;line-height:normal;font-family:Menlo,'DejaVu Sans Mono',consolas,'Courier New',monospace\"></pre>\n"
      ],
      "text/plain": []
     },
     "metadata": {},
     "output_type": "display_data"
    },
    {
     "name": "stdout",
     "output_type": "stream",
     "text": [
      "\u001b[38;5;208mUsage:\u001b[0m \u001b[38;5;244mawesome-app\u001b[0m\n",
      "                   [\u001b[36m--help\u001b[0m | \u001b[36m--help-all\u001b[0m | \u001b[36m--print-shell-completion\u001b[0m \u001b[38;5;36m{bash,zsh,tcsh}\u001b[0m | \u001b[36m--tui\u001b[0m]\n",
      "                   \u001b[36m--name\u001b[0m \u001b[38;5;36m<value>\u001b[0m\n"
     ]
    }
   ],
   "source": [
    "import yapx\n",
    "\n",
    "parser = yapx.ArgumentParser()\n",
    "\n",
    "parser.add_arguments(demo)\n",
    "\n",
    "parser.print_help()"
   ]
  },
  {
   "cell_type": "markdown",
   "id": "8120175c-6e75-4df1-926a-c668ded68666",
   "metadata": {},
   "source": [
    "Parse command-line arguments:"
   ]
  },
  {
   "cell_type": "code",
   "execution_count": 4,
   "id": "8a29af2c-d2fd-4b33-b10a-0c76205fd3e2",
   "metadata": {},
   "outputs": [
    {
     "data": {
      "text/plain": [
       "{'name': 'Donald'}"
      ]
     },
     "execution_count": 4,
     "metadata": {},
     "output_type": "execute_result"
    }
   ],
   "source": [
    "parsed_args = parser.parse_args([\"--name\", \"Donald\"])\n",
    "\n",
    "parsed_args.to_dict()"
   ]
  },
  {
   "cell_type": "markdown",
   "id": "133440f9-bca7-4617-a5f0-06da4a8c11a1",
   "metadata": {},
   "source": [
    "Run the example `demo` function with parsed args."
   ]
  },
  {
   "cell_type": "code",
   "execution_count": 5,
   "id": "d0eca995-1b98-45eb-a695-2e393f1453fd",
   "metadata": {},
   "outputs": [
    {
     "name": "stdout",
     "output_type": "stream",
     "text": [
      "Hello Donald\n"
     ]
    }
   ],
   "source": [
    "demo(name=parsed_args.name)"
   ]
  },
  {
   "cell_type": "markdown",
   "id": "927f02ab-0c79-4ae1-b45c-9207aee2381d",
   "metadata": {},
   "source": [
    "## Subcommands\n",
    "\n",
    "Now, adding `update_info` as a subcommand:"
   ]
  },
  {
   "cell_type": "code",
   "execution_count": 6,
   "id": "7ab68a61-d066-427e-b390-ebc700a354ff",
   "metadata": {},
   "outputs": [
    {
     "data": {
      "text/html": [
       "<pre style=\"white-space:pre;overflow-x:auto;line-height:normal;font-family:Menlo,'DejaVu Sans Mono',consolas,'Courier New',monospace\"></pre>\n"
      ],
      "text/plain": []
     },
     "metadata": {},
     "output_type": "display_data"
    },
    {
     "name": "stdout",
     "output_type": "stream",
     "text": [
      "\n",
      "________________________________________________________________________________\n",
      "\n",
      "$ awesome-app\n",
      "________________________________________________________________________________\n",
      "\n"
     ]
    },
    {
     "data": {
      "text/html": [
       "<pre style=\"white-space:pre;overflow-x:auto;line-height:normal;font-family:Menlo,'DejaVu Sans Mono',consolas,'Courier New',monospace\"></pre>\n"
      ],
      "text/plain": []
     },
     "metadata": {},
     "output_type": "display_data"
    },
    {
     "name": "stdout",
     "output_type": "stream",
     "text": [
      "\u001b[38;5;208mHelpful Parameters:\u001b[0m\n",
      "  \u001b[36m--help\u001b[0m, \u001b[36m-h\u001b[0m            \u001b[39mShow this help message.\u001b[0m\n",
      "  \u001b[36m--help-all\u001b[0m            \u001b[39mShow help for all commands.\u001b[0m\n",
      "  \u001b[36m--print-shell-completion\u001b[0m \u001b[38;5;36m{bash,zsh,tcsh}\u001b[0m\n",
      "                        \u001b[39mPrint shell completion script.\u001b[0m\n",
      "  \u001b[36m--tui\u001b[0m                 \u001b[39mShow Textual User Interface (TUI).\u001b[0m\n",
      "\n",
      "\u001b[38;5;208mRequired Parameters:\u001b[0m\n",
      "  \u001b[36m--name\u001b[0m \u001b[38;5;36m<value>\u001b[0m\n",
      "\n",
      "\u001b[38;5;208mCommands:\u001b[0m\n",
      "  \u001b[36m<COMMAND>\u001b[0m\n",
      "    \u001b[36mupdate-info\u001b[0m\n",
      "\n"
     ]
    },
    {
     "data": {
      "text/html": [
       "<pre style=\"white-space:pre;overflow-x:auto;line-height:normal;font-family:Menlo,'DejaVu Sans Mono',consolas,'Courier New',monospace\"></pre>\n"
      ],
      "text/plain": []
     },
     "metadata": {},
     "output_type": "display_data"
    },
    {
     "name": "stdout",
     "output_type": "stream",
     "text": [
      "\u001b[38;5;208mUsage:\u001b[0m \u001b[38;5;244mawesome-app\u001b[0m\n",
      "                   [\u001b[36m--help\u001b[0m | \u001b[36m--help-all\u001b[0m | \u001b[36m--print-shell-completion\u001b[0m \u001b[38;5;36m{bash,zsh,tcsh}\u001b[0m | \u001b[36m--tui\u001b[0m]\n",
      "                   \u001b[36m--name\u001b[0m \u001b[38;5;36m<value>\u001b[0m\n",
      "                   \u001b[36m<COMMAND> ...\u001b[0m\n",
      "\n",
      "________________________________________________________________________________\n",
      "\n",
      "$ awesome-app update-info\n",
      "________________________________________________________________________________\n",
      "\n"
     ]
    },
    {
     "data": {
      "text/html": [
       "<pre style=\"white-space:pre;overflow-x:auto;line-height:normal;font-family:Menlo,'DejaVu Sans Mono',consolas,'Courier New',monospace\"></pre>\n"
      ],
      "text/plain": []
     },
     "metadata": {},
     "output_type": "display_data"
    },
    {
     "name": "stdout",
     "output_type": "stream",
     "text": [
      "\u001b[38;5;208mHelpful Parameters:\u001b[0m\n",
      "  \u001b[36m--help\u001b[0m, \u001b[36m-h\u001b[0m            \u001b[39mShow this help message.\u001b[0m\n",
      "  \u001b[36m--tui\u001b[0m                 \u001b[39mShow Textual User Interface (TUI).\u001b[0m\n",
      "\n",
      "\u001b[38;5;208mRequired Parameters:\u001b[0m\n",
      "  \u001b[36m--age\u001b[0m \u001b[38;5;36m<#>\u001b[0m\n",
      "  \u001b[36m--is-employed\u001b[0m, \u001b[36m--no-is-employed\u001b[0m\n",
      "\n",
      "\u001b[38;5;208mOptional Parameters:\u001b[0m\n",
      "  \u001b[36m--net-worth\u001b[0m \u001b[38;5;36m<#>\u001b[0m       \u001b[39m| Default: 0.0\u001b[0m\n",
      "  \u001b[36m<key=value ...>\u001b[0m       \u001b[39mAny extra command-line key-value pairs.\u001b[0m\n",
      "\n"
     ]
    },
    {
     "data": {
      "text/html": [
       "<pre style=\"white-space:pre;overflow-x:auto;line-height:normal;font-family:Menlo,'DejaVu Sans Mono',consolas,'Courier New',monospace\"></pre>\n"
      ],
      "text/plain": []
     },
     "metadata": {},
     "output_type": "display_data"
    },
    {
     "name": "stdout",
     "output_type": "stream",
     "text": [
      "\u001b[38;5;208mUsage:\u001b[0m \u001b[38;5;244mawesome-app update-info\u001b[0m [\u001b[36m--help\u001b[0m | \u001b[36m--tui\u001b[0m] \u001b[36m--age\u001b[0m \u001b[38;5;36m<#>\u001b[0m \u001b[36m--is-employed\u001b[0m\n",
      "                               [\u001b[36m--net-worth\u001b[0m \u001b[38;5;36m<#>\u001b[0m]\n"
     ]
    }
   ],
   "source": [
    "import yapx\n",
    "\n",
    "parser = yapx.ArgumentParser()\n",
    "\n",
    "parser.add_arguments(demo)\n",
    "\n",
    "parser.add_command(update_info)\n",
    "\n",
    "parser.print_help(include_commands=True)"
   ]
  },
  {
   "cell_type": "code",
   "execution_count": 7,
   "id": "d5de3678-6709-4ebe-9612-b6bbc17893e7",
   "metadata": {},
   "outputs": [
    {
     "data": {
      "text/plain": [
       "{'name': 'Jane', 'age': 23, 'is_employed': True, 'net_worth': 0.0}"
      ]
     },
     "execution_count": 7,
     "metadata": {},
     "output_type": "execute_result"
    }
   ],
   "source": [
    "parsed_args = parser.parse_args([\"--name\", \"Jane\", \"update-info\", \"--age\", \"23\", \"--is-employed\"])\n",
    "\n",
    "parsed_args.to_dict()"
   ]
  },
  {
   "cell_type": "markdown",
   "id": "fbc1cb21-f1a3-4fe4-8028-2a7c2a40ce83",
   "metadata": {},
   "source": [
    "---\n",
    "\n",
    "Yapx imposes this simple structure for CLI apps. The CLI parser can have one root command, and any number of subcommands and nested subcommands.\n",
    "\n",
    "```sh\n",
    "___________ _________________ _________ _____________\n",
    "\n",
    "awesome-cli --log-level debug say-hello --name Donald\n",
    "___________ _________________ _________ _____________\n",
    "  CLI App       Root-args      Command   Command-args\n",
    "```\n",
    "\n",
    "---"
   ]
  },
  {
   "attachments": {},
   "cell_type": "markdown",
   "id": "c56379d3-301b-4650-8ed5-c564af93f58c",
   "metadata": {},
   "source": [
    "## yapx.build_parser\n",
    "\n",
    "The methods `add_arguments` and `add_command` are encapsulated into one method `build_parser`:"
   ]
  },
  {
   "cell_type": "code",
   "execution_count": 8,
   "id": "0be3c2a3-7efc-4b8d-8422-221aa98b981b",
   "metadata": {
    "scrolled": true
   },
   "outputs": [
    {
     "data": {
      "text/html": [
       "<pre style=\"white-space:pre;overflow-x:auto;line-height:normal;font-family:Menlo,'DejaVu Sans Mono',consolas,'Courier New',monospace\"></pre>\n"
      ],
      "text/plain": []
     },
     "metadata": {},
     "output_type": "display_data"
    },
    {
     "name": "stdout",
     "output_type": "stream",
     "text": [
      "\n",
      "________________________________________________________________________________\n",
      "\n",
      "$ awesome-app\n",
      "________________________________________________________________________________\n",
      "\n"
     ]
    },
    {
     "data": {
      "text/html": [
       "<pre style=\"white-space:pre;overflow-x:auto;line-height:normal;font-family:Menlo,'DejaVu Sans Mono',consolas,'Courier New',monospace\"></pre>\n"
      ],
      "text/plain": []
     },
     "metadata": {},
     "output_type": "display_data"
    },
    {
     "name": "stdout",
     "output_type": "stream",
     "text": [
      "\u001b[38;5;208mHelpful Parameters:\u001b[0m\n",
      "  \u001b[36m--help\u001b[0m, \u001b[36m-h\u001b[0m            \u001b[39mShow this help message.\u001b[0m\n",
      "  \u001b[36m--help-all\u001b[0m            \u001b[39mShow help for all commands.\u001b[0m\n",
      "  \u001b[36m--print-shell-completion\u001b[0m \u001b[38;5;36m{bash,zsh,tcsh}\u001b[0m\n",
      "                        \u001b[39mPrint shell completion script.\u001b[0m\n",
      "  \u001b[36m--tui\u001b[0m                 \u001b[39mShow Textual User Interface (TUI).\u001b[0m\n",
      "\n",
      "\u001b[38;5;208mRequired Parameters:\u001b[0m\n",
      "  \u001b[36m--name\u001b[0m \u001b[38;5;36m<value>\u001b[0m\n",
      "\n",
      "\u001b[38;5;208mCommands:\u001b[0m\n",
      "  \u001b[36m<COMMAND>\u001b[0m\n",
      "    \u001b[36mupdate-info\u001b[0m\n",
      "\n"
     ]
    },
    {
     "data": {
      "text/html": [
       "<pre style=\"white-space:pre;overflow-x:auto;line-height:normal;font-family:Menlo,'DejaVu Sans Mono',consolas,'Courier New',monospace\"></pre>\n"
      ],
      "text/plain": []
     },
     "metadata": {},
     "output_type": "display_data"
    },
    {
     "name": "stdout",
     "output_type": "stream",
     "text": [
      "\u001b[38;5;208mUsage:\u001b[0m \u001b[38;5;244mawesome-app\u001b[0m\n",
      "                   [\u001b[36m--help\u001b[0m | \u001b[36m--help-all\u001b[0m | \u001b[36m--print-shell-completion\u001b[0m \u001b[38;5;36m{bash,zsh,tcsh}\u001b[0m | \u001b[36m--tui\u001b[0m]\n",
      "                   \u001b[36m--name\u001b[0m \u001b[38;5;36m<value>\u001b[0m\n",
      "                   \u001b[36m<COMMAND> ...\u001b[0m\n",
      "\n",
      "________________________________________________________________________________\n",
      "\n",
      "$ awesome-app update-info\n",
      "________________________________________________________________________________\n",
      "\n"
     ]
    },
    {
     "data": {
      "text/html": [
       "<pre style=\"white-space:pre;overflow-x:auto;line-height:normal;font-family:Menlo,'DejaVu Sans Mono',consolas,'Courier New',monospace\"></pre>\n"
      ],
      "text/plain": []
     },
     "metadata": {},
     "output_type": "display_data"
    },
    {
     "name": "stdout",
     "output_type": "stream",
     "text": [
      "\u001b[38;5;208mHelpful Parameters:\u001b[0m\n",
      "  \u001b[36m--help\u001b[0m, \u001b[36m-h\u001b[0m            \u001b[39mShow this help message.\u001b[0m\n",
      "  \u001b[36m--tui\u001b[0m                 \u001b[39mShow Textual User Interface (TUI).\u001b[0m\n",
      "\n",
      "\u001b[38;5;208mRequired Parameters:\u001b[0m\n",
      "  \u001b[36m--age\u001b[0m \u001b[38;5;36m<#>\u001b[0m\n",
      "  \u001b[36m--is-employed\u001b[0m, \u001b[36m--no-is-employed\u001b[0m\n",
      "\n",
      "\u001b[38;5;208mOptional Parameters:\u001b[0m\n",
      "  \u001b[36m--net-worth\u001b[0m \u001b[38;5;36m<#>\u001b[0m       \u001b[39m| Default: 0.0\u001b[0m\n",
      "  \u001b[36m<key=value ...>\u001b[0m       \u001b[39mAny extra command-line key-value pairs.\u001b[0m\n",
      "\n"
     ]
    },
    {
     "data": {
      "text/html": [
       "<pre style=\"white-space:pre;overflow-x:auto;line-height:normal;font-family:Menlo,'DejaVu Sans Mono',consolas,'Courier New',monospace\"></pre>\n"
      ],
      "text/plain": []
     },
     "metadata": {},
     "output_type": "display_data"
    },
    {
     "name": "stdout",
     "output_type": "stream",
     "text": [
      "\u001b[38;5;208mUsage:\u001b[0m \u001b[38;5;244mawesome-app update-info\u001b[0m [\u001b[36m--help\u001b[0m | \u001b[36m--tui\u001b[0m] \u001b[36m--age\u001b[0m \u001b[38;5;36m<#>\u001b[0m \u001b[36m--is-employed\u001b[0m\n",
      "                               [\u001b[36m--net-worth\u001b[0m \u001b[38;5;36m<#>\u001b[0m]\n"
     ]
    }
   ],
   "source": [
    "parser = yapx.build_parser(demo, [update_info])\n",
    "\n",
    "parser.print_help(include_commands=True)"
   ]
  },
  {
   "cell_type": "code",
   "execution_count": 9,
   "id": "118d1b73-9135-4ad7-88fe-bfe88ad0137d",
   "metadata": {},
   "outputs": [
    {
     "data": {
      "text/plain": [
       "{'name': 'Jane',\n",
       " '_command_args_model_0': types.Dataclass_demo,\n",
       " '_command_parser': ArgumentParser(prog='awesome-app update-info', usage=None, description=None, formatter_class=<class 'rich_argparse.RawTextRichHelpFormatter'>, conflict_handler='error', add_help=False),\n",
       " '_command_func_0': <function __main__.demo(name: str)>,\n",
       " 'age': 23,\n",
       " 'is_employed': True,\n",
       " 'net_worth': 0.0,\n",
       " '_command_args_model_1': types.Dataclass_update_info,\n",
       " '_command_func_1': <function __main__.update_info(age: int, is_employed: bool, net_worth: float = 0, **kwargs)>}"
      ]
     },
     "execution_count": 9,
     "metadata": {},
     "output_type": "execute_result"
    }
   ],
   "source": [
    "parsed_args = parser.parse_args([\"--name\", \"Jane\", \"update-info\", \"--age\", \"23\", \"--is-employed\"])\n",
    "\n",
    "vars(parsed_args)"
   ]
  },
  {
   "cell_type": "markdown",
   "id": "6b1d8d81-c147-4aac-899c-fe976608515c",
   "metadata": {},
   "source": [
    "In the parsed arguments, notice the keys that start with an underscore `_`. These provide references to the root function, and any matching subcommand function."
   ]
  },
  {
   "cell_type": "code",
   "execution_count": 10,
   "id": "792b0dea-3723-4a68-b79b-7de7a3872dad",
   "metadata": {},
   "outputs": [
    {
     "name": "stdout",
     "output_type": "stream",
     "text": [
      "Hello Jane\n"
     ]
    }
   ],
   "source": [
    "parsed_args._command_func_0(name=parsed_args.name)"
   ]
  },
  {
   "cell_type": "code",
   "execution_count": 11,
   "id": "380916fa-6dc4-4bd3-9462-305b83a59e3c",
   "metadata": {},
   "outputs": [
    {
     "name": "stdout",
     "output_type": "stream",
     "text": [
      "age=23; type=int\n",
      "is_employed=True; type=bool\n",
      "net_worth=0.0; type=float\n",
      "kwargs={'name': 'Jane'}\n"
     ]
    }
   ],
   "source": [
    "parsed_args._command_func_1(**parsed_args.to_dict())"
   ]
  },
  {
   "cell_type": "markdown",
   "id": "27011144-0879-4db4-8c0b-dc18c6ce5f33",
   "metadata": {},
   "source": [
    "The `parsed_args` namespace object features a method `to_dict()` that will output the argument values as a dictionary, while excluding any keys that do not start with a letter:"
   ]
  },
  {
   "cell_type": "code",
   "execution_count": 12,
   "id": "caadd911-5a62-47a3-8b4e-bbf0ad794bf6",
   "metadata": {},
   "outputs": [
    {
     "data": {
      "text/plain": [
       "{'name': 'Jane', 'age': 23, 'is_employed': True, 'net_worth': 0.0}"
      ]
     },
     "execution_count": 12,
     "metadata": {},
     "output_type": "execute_result"
    }
   ],
   "source": [
    "parsed_args.to_dict()"
   ]
  },
  {
   "cell_type": "markdown",
   "id": "5820a60a-83a1-4923-9124-30c5815fce2d",
   "metadata": {},
   "source": [
    "## yapx.run\n",
    "\n",
    "The process of adding arguments and commands is packed into `yapx.build_parser`. The function `yapx.run` extends this by parsing arguments, calling the root function, and the appropriate subcommand function, while sneaking in even more useful behavior:"
   ]
  },
  {
   "cell_type": "code",
   "execution_count": 13,
   "id": "59261a9a-106f-4344-a6d1-c00f12ba9aa1",
   "metadata": {},
   "outputs": [
    {
     "data": {
      "text/html": [
       "<pre style=\"white-space:pre;overflow-x:auto;line-height:normal;font-family:Menlo,'DejaVu Sans Mono',consolas,'Courier New',monospace\"></pre>\n"
      ],
      "text/plain": []
     },
     "metadata": {},
     "output_type": "display_data"
    },
    {
     "name": "stdout",
     "output_type": "stream",
     "text": [
      "Hello Jane\n",
      "age=23; type=int\n",
      "is_employed=True; type=bool\n",
      "net_worth=0.0; type=float\n",
      "kwargs={}\n"
     ]
    }
   ],
   "source": [
    "yapx.run(demo, [update_info], args=[\"--name\", \"Jane\", \"update-info\", \"--age\", \"23\", \"--is-employed\"])"
   ]
  },
  {
   "cell_type": "markdown",
   "id": "171c7ae3-4ace-4907-9f6c-511b007a92ed",
   "metadata": {},
   "source": [
    "Code within `yapx.run` enables some magical behavior, like using the root function to facilitate setup/teardown logic with the `yield` statement:"
   ]
  },
  {
   "cell_type": "code",
   "execution_count": 14,
   "id": "b3b54973-4078-4c81-a696-182092180418",
   "metadata": {},
   "outputs": [],
   "source": [
    "def setup():\n",
    "    print(\"Marco\")\n",
    "    yield\n",
    "    print(\"Polo\")\n",
    "\n",
    "def exclaim():\n",
    "    print(\"!!!\")\n",
    "\n",
    "def question():\n",
    "    print(\"???\")\n",
    "\n",
    "def repeat(char):\n",
    "    print(char * 3)"
   ]
  },
  {
   "cell_type": "code",
   "execution_count": 15,
   "id": "66a6d3e6-34ec-47c9-b063-0ca05bbfd31e",
   "metadata": {},
   "outputs": [
    {
     "data": {
      "text/html": [
       "<pre style=\"white-space:pre;overflow-x:auto;line-height:normal;font-family:Menlo,'DejaVu Sans Mono',consolas,'Courier New',monospace\"></pre>\n"
      ],
      "text/plain": []
     },
     "metadata": {},
     "output_type": "display_data"
    },
    {
     "name": "stdout",
     "output_type": "stream",
     "text": [
      "Marco\n",
      "Polo\n"
     ]
    }
   ],
   "source": [
    "yapx.run(setup, [exclaim, question, repeat], args=[])"
   ]
  },
  {
   "cell_type": "code",
   "execution_count": 16,
   "id": "6e0f8bcc-4ec6-44ae-9162-7bd0ffd46e0c",
   "metadata": {},
   "outputs": [
    {
     "data": {
      "text/html": [
       "<pre style=\"white-space:pre;overflow-x:auto;line-height:normal;font-family:Menlo,'DejaVu Sans Mono',consolas,'Courier New',monospace\"></pre>\n"
      ],
      "text/plain": []
     },
     "metadata": {},
     "output_type": "display_data"
    },
    {
     "name": "stdout",
     "output_type": "stream",
     "text": [
      "Marco\n",
      "!!!\n",
      "Polo\n"
     ]
    }
   ],
   "source": [
    "yapx.run(setup, [exclaim, question, repeat], args=[\"exclaim\"])"
   ]
  },
  {
   "cell_type": "code",
   "execution_count": 17,
   "id": "7cca8313-4d44-4fc5-896d-adfa30c76ef7",
   "metadata": {},
   "outputs": [
    {
     "data": {
      "text/html": [
       "<pre style=\"white-space:pre;overflow-x:auto;line-height:normal;font-family:Menlo,'DejaVu Sans Mono',consolas,'Courier New',monospace\"></pre>\n"
      ],
      "text/plain": []
     },
     "metadata": {},
     "output_type": "display_data"
    },
    {
     "name": "stdout",
     "output_type": "stream",
     "text": [
      "Marco\n",
      "???\n",
      "Polo\n"
     ]
    }
   ],
   "source": [
    "yapx.run(setup, [exclaim, question, repeat], args=[\"question\"])"
   ]
  },
  {
   "cell_type": "code",
   "execution_count": 18,
   "id": "26a24a82-6f3e-4642-9c9d-fc7c663719c3",
   "metadata": {},
   "outputs": [
    {
     "data": {
      "text/html": [
       "<pre style=\"white-space:pre;overflow-x:auto;line-height:normal;font-family:Menlo,'DejaVu Sans Mono',consolas,'Courier New',monospace\"></pre>\n"
      ],
      "text/plain": []
     },
     "metadata": {},
     "output_type": "display_data"
    },
    {
     "name": "stdout",
     "output_type": "stream",
     "text": [
      "Marco\n",
      "$$$\n",
      "Polo\n"
     ]
    }
   ],
   "source": [
    "yapx.run(setup, [exclaim, question, repeat], args=[\"repeat\", \"--char\", \"$\"])"
   ]
  },
  {
   "cell_type": "markdown",
   "id": "a5a37768-7757-4bf1-ad0d-13ebdeba845f",
   "metadata": {},
   "source": [
    "### yapx.run_commands\n",
    "\n",
    "The root command is optional. To omit it, pass `None` as the first positional arg to `yapx.run`, or equivalently, call `yapx.run_command`. E.g.:"
   ]
  },
  {
   "cell_type": "code",
   "execution_count": 19,
   "id": "e22efc90-a8d1-4ecd-a017-368e94a00a6a",
   "metadata": {},
   "outputs": [
    {
     "data": {
      "text/html": [
       "<pre style=\"white-space:pre;overflow-x:auto;line-height:normal;font-family:Menlo,'DejaVu Sans Mono',consolas,'Courier New',monospace\"></pre>\n"
      ],
      "text/plain": []
     },
     "metadata": {},
     "output_type": "display_data"
    },
    {
     "data": {
      "text/html": [
       "<pre style=\"white-space:pre;overflow-x:auto;line-height:normal;font-family:Menlo,'DejaVu Sans Mono',consolas,'Courier New',monospace\"></pre>\n"
      ],
      "text/plain": []
     },
     "metadata": {},
     "output_type": "display_data"
    }
   ],
   "source": [
    "yapx.run(None, [exclaim, question, repeat], args=[])\n",
    "# OR\n",
    "yapx.run_commands([exclaim, question, repeat], args=[])"
   ]
  },
  {
   "cell_type": "markdown",
   "id": "91c56e78-289c-464c-a4e0-83bf9e925574",
   "metadata": {},
   "source": [
    "## yapx.cmd\n",
    "\n",
    "Command names are inferred from the function name. To explicitly provide a command name, use the `yapx.cmd` function to modify the command:"
   ]
  },
  {
   "cell_type": "code",
   "execution_count": 20,
   "id": "7b81c6b0-da94-4b8e-8707-f243f18321e9",
   "metadata": {
    "scrolled": true
   },
   "outputs": [
    {
     "data": {
      "text/html": [
       "<pre style=\"white-space:pre;overflow-x:auto;line-height:normal;font-family:Menlo,'DejaVu Sans Mono',consolas,'Courier New',monospace\"></pre>\n"
      ],
      "text/plain": []
     },
     "metadata": {},
     "output_type": "display_data"
    },
    {
     "name": "stdout",
     "output_type": "stream",
     "text": [
      "\n",
      "________________________________________________________________________________\n",
      "\n",
      "$ awesome-app\n",
      "________________________________________________________________________________\n",
      "\n"
     ]
    },
    {
     "data": {
      "text/html": [
       "<pre style=\"white-space:pre;overflow-x:auto;line-height:normal;font-family:Menlo,'DejaVu Sans Mono',consolas,'Courier New',monospace\"></pre>\n"
      ],
      "text/plain": []
     },
     "metadata": {},
     "output_type": "display_data"
    },
    {
     "name": "stdout",
     "output_type": "stream",
     "text": [
      "\u001b[38;5;208mHelpful Parameters:\u001b[0m\n",
      "  \u001b[36m--help\u001b[0m, \u001b[36m-h\u001b[0m            \u001b[39mShow this help message.\u001b[0m\n",
      "  \u001b[36m--help-all\u001b[0m            \u001b[39mShow help for all commands.\u001b[0m\n",
      "  \u001b[36m--print-shell-completion\u001b[0m \u001b[38;5;36m{bash,zsh,tcsh}\u001b[0m\n",
      "                        \u001b[39mPrint shell completion script.\u001b[0m\n",
      "  \u001b[36m--tui\u001b[0m                 \u001b[39mShow Textual User Interface (TUI).\u001b[0m\n",
      "\n",
      "\u001b[38;5;208mCommands:\u001b[0m\n",
      "  \u001b[36m<COMMAND>\u001b[0m\n",
      "    \u001b[36mshout\u001b[0m\n",
      "    \u001b[36mdoubt\u001b[0m\n",
      "    \u001b[36mecho\u001b[0m\n",
      "\n"
     ]
    },
    {
     "data": {
      "text/html": [
       "<pre style=\"white-space:pre;overflow-x:auto;line-height:normal;font-family:Menlo,'DejaVu Sans Mono',consolas,'Courier New',monospace\"></pre>\n"
      ],
      "text/plain": []
     },
     "metadata": {},
     "output_type": "display_data"
    },
    {
     "name": "stdout",
     "output_type": "stream",
     "text": [
      "\u001b[38;5;208mUsage:\u001b[0m \u001b[38;5;244mawesome-app\u001b[0m\n",
      "                   [\u001b[36m--help\u001b[0m | \u001b[36m--help-all\u001b[0m | \u001b[36m--print-shell-completion\u001b[0m \u001b[38;5;36m{bash,zsh,tcsh}\u001b[0m | \u001b[36m--tui\u001b[0m]\n",
      "                   \u001b[36m<COMMAND> ...\u001b[0m\n"
     ]
    }
   ],
   "source": [
    "parser = yapx.build_parser(None, subcommands=[\n",
    "    yapx.cmd(exclaim, name='shout'),\n",
    "    yapx.cmd(question, name='doubt'),\n",
    "    yapx.cmd(repeat, name='echo'),\n",
    "])\n",
    "\n",
    "parser.print_help()"
   ]
  },
  {
   "cell_type": "markdown",
   "id": "a66f50a7-feb3-4044-825c-a22bd5a3a130",
   "metadata": {},
   "source": [
    "## yapx.Context\n",
    "\n",
    "When a parameter is annotated with `yapx.Context`, it is excluded from the command-line interface, and is populated with a `Context()` object that gives access to some useful attributes."
   ]
  },
  {
   "cell_type": "code",
   "execution_count": 21,
   "id": "57b39570-d907-4971-bd29-bb6b971c8d72",
   "metadata": {},
   "outputs": [],
   "source": [
    "def setup():\n",
    "    print(\"Marco\")\n",
    "    yield \"Niccolo\"\n",
    "    print(\"Polo\")\n",
    "\n",
    "def exclaim(context: yapx.Context):\n",
    "    print(context.relay_value, \"!!!\")\n",
    "\n",
    "def question(context: yapx.Context):\n",
    "    print(context.relay_value, \"???\")\n",
    "\n",
    "def repeat(char, context: yapx.Context):\n",
    "    print(context.relay_value, char * 3)"
   ]
  },
  {
   "cell_type": "code",
   "execution_count": 22,
   "id": "d3ef115b-caab-4ebd-973b-3f3081470b3c",
   "metadata": {},
   "outputs": [
    {
     "data": {
      "text/html": [
       "<pre style=\"white-space:pre;overflow-x:auto;line-height:normal;font-family:Menlo,'DejaVu Sans Mono',consolas,'Courier New',monospace\"></pre>\n"
      ],
      "text/plain": []
     },
     "metadata": {},
     "output_type": "display_data"
    },
    {
     "name": "stdout",
     "output_type": "stream",
     "text": [
      "Marco\n",
      "Niccolo ???\n",
      "Polo\n"
     ]
    }
   ],
   "source": [
    "yapx.run(setup, [exclaim, question, repeat], args=[\"question\"])"
   ]
  },
  {
   "cell_type": "markdown",
   "id": "2cb13b84-1f1f-4a08-8e84-de6aea347252",
   "metadata": {},
   "source": [
    "You can also use a mutable data structure, such as a `dict`, to store shared state:"
   ]
  },
  {
   "cell_type": "code",
   "execution_count": 23,
   "id": "c0c71e19-20ee-4f79-b4a9-7b8ca9be8ebe",
   "metadata": {},
   "outputs": [],
   "source": [
    "state = {}\n",
    "\n",
    "def setup():\n",
    "    state['active'] = True\n",
    "    print(\"Marco\", state)\n",
    "    yield\n",
    "    state['active'] = False\n",
    "    print(\"Polo\", state)\n",
    "\n",
    "def exclaim():\n",
    "    print(\"!!!\", state)\n",
    "\n",
    "def question():\n",
    "    print(\"???\", state)\n",
    "\n",
    "def repeat(char):\n",
    "    print(char * 3, state)"
   ]
  },
  {
   "cell_type": "code",
   "execution_count": 24,
   "id": "49e702e8-4cb1-4ada-b9ee-a088e09cd73a",
   "metadata": {},
   "outputs": [
    {
     "data": {
      "text/html": [
       "<pre style=\"white-space:pre;overflow-x:auto;line-height:normal;font-family:Menlo,'DejaVu Sans Mono',consolas,'Courier New',monospace\"></pre>\n"
      ],
      "text/plain": []
     },
     "metadata": {},
     "output_type": "display_data"
    },
    {
     "name": "stdout",
     "output_type": "stream",
     "text": [
      "Marco {'active': True}\n",
      "!!! {'active': True}\n",
      "Polo {'active': False}\n"
     ]
    }
   ],
   "source": [
    "yapx.run(setup, [exclaim, question, repeat], args=[\"exclaim\"])"
   ]
  },
  {
   "cell_type": "markdown",
   "id": "19419c66-ad33-4291-8f7e-026dc41a279c",
   "metadata": {},
   "source": [
    "---\n",
    "\n",
    "Note that the root-command is *always executed*, and the appropriate sub-command is executed based on the given arguments.\n",
    "\n",
    "However, `yapx.run` accepts a parameter, `defaults_args`, to use when no arguments are provided. This is useful, for example, to display help when no arguments are provided:"
   ]
  },
  {
   "cell_type": "code",
   "execution_count": 25,
   "id": "76cd1139-5d2b-4f72-bdd9-669bdf75f806",
   "metadata": {},
   "outputs": [
    {
     "data": {
      "text/html": [
       "<pre style=\"white-space:pre;overflow-x:auto;line-height:normal;font-family:Menlo,'DejaVu Sans Mono',consolas,'Courier New',monospace\"></pre>\n"
      ],
      "text/plain": []
     },
     "metadata": {},
     "output_type": "display_data"
    },
    {
     "name": "stdout",
     "output_type": "stream",
     "text": [
      "\n",
      "________________________________________________________________________________\n",
      "\n",
      "$ awesome-app\n",
      "________________________________________________________________________________\n",
      "\n"
     ]
    },
    {
     "data": {
      "text/html": [
       "<pre style=\"white-space:pre;overflow-x:auto;line-height:normal;font-family:Menlo,'DejaVu Sans Mono',consolas,'Courier New',monospace\"></pre>\n"
      ],
      "text/plain": []
     },
     "metadata": {},
     "output_type": "display_data"
    },
    {
     "name": "stdout",
     "output_type": "stream",
     "text": [
      "\u001b[38;5;208mHelpful Parameters:\u001b[0m\n",
      "  \u001b[36m--help\u001b[0m, \u001b[36m-h\u001b[0m            \u001b[39mShow this help message.\u001b[0m\n",
      "  \u001b[36m--help-all\u001b[0m            \u001b[39mShow help for all commands.\u001b[0m\n",
      "  \u001b[36m--print-shell-completion\u001b[0m \u001b[38;5;36m{bash,zsh,tcsh}\u001b[0m\n",
      "                        \u001b[39mPrint shell completion script.\u001b[0m\n",
      "  \u001b[36m--tui\u001b[0m                 \u001b[39mShow Textual User Interface (TUI).\u001b[0m\n",
      "\n",
      "\u001b[38;5;208mCommands:\u001b[0m\n",
      "  \u001b[36m<COMMAND>\u001b[0m\n",
      "    \u001b[36mexclaim\u001b[0m\n",
      "    \u001b[36mquestion\u001b[0m\n",
      "    \u001b[36mrepeat\u001b[0m\n",
      "\n"
     ]
    },
    {
     "data": {
      "text/html": [
       "<pre style=\"white-space:pre;overflow-x:auto;line-height:normal;font-family:Menlo,'DejaVu Sans Mono',consolas,'Courier New',monospace\"></pre>\n"
      ],
      "text/plain": []
     },
     "metadata": {},
     "output_type": "display_data"
    },
    {
     "name": "stdout",
     "output_type": "stream",
     "text": [
      "\u001b[38;5;208mUsage:\u001b[0m \u001b[38;5;244mawesome-app\u001b[0m\n",
      "                   [\u001b[36m--help\u001b[0m | \u001b[36m--help-all\u001b[0m | \u001b[36m--print-shell-completion\u001b[0m \u001b[38;5;36m{bash,zsh,tcsh}\u001b[0m | \u001b[36m--tui\u001b[0m]\n",
      "                   \u001b[36m<COMMAND> ...\u001b[0m\n"
     ]
    }
   ],
   "source": [
    "from contextlib import suppress\n",
    "\n",
    "with suppress(SystemExit):\n",
    "    yapx.run(setup, [exclaim, question, repeat], args=[], default_args=[\"--help\"])"
   ]
  },
  {
   "cell_type": "markdown",
   "id": "51e68fda-aa73-462c-bf10-70dea9b570c8",
   "metadata": {},
   "source": [
    "## Repeating Parameters\n",
    "\n",
    "In Yapx, argument values can be provided multiple times. If the parameter type is a sequence (`list`, `set`, `dict`, etc.), then repeated values are appended to the sequence. Otherwise, the parameter assumes only the latest value."
   ]
  },
  {
   "cell_type": "code",
   "execution_count": 26,
   "id": "df1014cb-2462-4239-89cb-e851c101ebb9",
   "metadata": {},
   "outputs": [],
   "source": [
    "from typing import List, Optional\n",
    "\n",
    "def demo(\n",
    "    name: str,\n",
    "    age: int,\n",
    "    is_employed: bool,\n",
    "    references: List[str],\n",
    "    net_worth: float = 0,\n",
    "):\n",
    "    print(f\"name={name}; type={type(name).__name__}\")\n",
    "    print(f\"age={age}; type={type(age).__name__}\")\n",
    "    print(f\"is_employed={is_employed}; type={type(is_employed).__name__}\")\n",
    "    print(f\"references={references}; type={type(references).__name__}\")\n",
    "    print(f\"net_worth={net_worth}; type={type(net_worth).__name__}\")"
   ]
  },
  {
   "cell_type": "code",
   "execution_count": 27,
   "id": "c0469fe2-2f18-4f57-9233-f288f34a5b9f",
   "metadata": {},
   "outputs": [
    {
     "name": "stdout",
     "output_type": "stream",
     "text": [
      "name=John; type=str\n",
      "age=66; type=int\n",
      "is_employed=False; type=bool\n",
      "references=['Joe', 'Jerry']; type=list\n",
      "net_worth=0.0; type=float\n"
     ]
    }
   ],
   "source": [
    "yapx.run(demo, args=[\n",
    "    \"--name\", \"Jane\", \"--name\", \"John\",\n",
    "    \"--age\", \"33\", \"--age\", \"66\",\n",
    "    \"--is-employed\", \"--no-is-employed\",\n",
    "    \"--references\", \"Joe\", \"--references\", \"Jerry\",\n",
    "])"
   ]
  },
  {
   "cell_type": "markdown",
   "id": "c0acd859-03d6-412a-b6b3-659c166a10b7",
   "metadata": {},
   "source": [
    "### Counting Parameters\n",
    "\n",
    "A special case of repeating parameters is the \"counting\" parameter. The value passed to the argument is equal to the number of times the argument was provided.\n",
    "\n",
    "To designate an argument as a counting parameter, it must be annotated with type `int` and `nargs=0`, e.g.:"
   ]
  },
  {
   "cell_type": "code",
   "execution_count": 28,
   "id": "8a8be876-f202-4603-91ac-d05f15e6ab4f",
   "metadata": {},
   "outputs": [
    {
     "name": "stdout",
     "output_type": "stream",
     "text": [
      "verbosity level: 5\n"
     ]
    }
   ],
   "source": [
    "from yapx.types import Annotated\n",
    "\n",
    "def demo(verbose: Annotated[int, yapx.counting_arg(\"-v\", \"--verbose\")]):\n",
    "    print(\"verbosity level:\", verbose)\n",
    "\n",
    "yapx.run(demo, args=[\"-vvvvv\"])"
   ]
  },
  {
   "cell_type": "markdown",
   "id": "98b83f16-90bd-4df6-9c29-948345aa75b5",
   "metadata": {},
   "source": [
    "Notice the use of `Annotated` coupled with `yapx.arg` to modify the properties of an argument."
   ]
  },
  {
   "cell_type": "markdown",
   "id": "f0983bfc-454d-4704-8474-3a9240156d14",
   "metadata": {},
   "source": [
    "## yapx.arg\n",
    "\n",
    "Annotating an argument with `yapx.arg(...)` exposes some essential argument properties, and enables some neat tricks like the \"counting parameter\" example above. Here's some more:"
   ]
  },
  {
   "cell_type": "markdown",
   "id": "b9ecf3c9-82a1-4571-aac8-c079d5e8a376",
   "metadata": {},
   "source": [
    "### Positional Arguments\n",
    "\n",
    "Arguments can be specified as positional like so:"
   ]
  },
  {
   "cell_type": "code",
   "execution_count": 29,
   "id": "5c60a2c1-4f20-402b-9608-c40d65d1cc1d",
   "metadata": {},
   "outputs": [
    {
     "name": "stdout",
     "output_type": "stream",
     "text": [
      "Alright, Alright, Alright, \n"
     ]
    }
   ],
   "source": [
    "def demo(\n",
    "    repeat: Annotated[int, yapx.arg(pos=True)]\n",
    "):\n",
    "    print('Alright, ' * repeat)\n",
    "\n",
    "yapx.run(demo, args=['3'])"
   ]
  },
  {
   "cell_type": "markdown",
   "id": "b7660c6a-fd8b-417d-a1bc-cef07ce00d0f",
   "metadata": {},
   "source": [
    "### Argument Help"
   ]
  },
  {
   "cell_type": "code",
   "execution_count": 30,
   "id": "9a2390bf-5913-461a-b47c-3b8921801689",
   "metadata": {},
   "outputs": [
    {
     "name": "stdout",
     "output_type": "stream",
     "text": [
      "\n",
      "________________________________________________________________________________\n",
      "\n",
      "$ awesome-app\n",
      "________________________________________________________________________________\n",
      "\n"
     ]
    },
    {
     "data": {
      "text/html": [
       "<pre style=\"white-space:pre;overflow-x:auto;line-height:normal;font-family:Menlo,'DejaVu Sans Mono',consolas,'Courier New',monospace\"></pre>\n"
      ],
      "text/plain": []
     },
     "metadata": {},
     "output_type": "display_data"
    },
    {
     "name": "stdout",
     "output_type": "stream",
     "text": [
      "\u001b[39mThis function provides a demo of argument help.\u001b[0m\n",
      "\u001b[39mI didn't intend to also demonstrate function help from docstrings!\u001b[0m\n",
      "\u001b[39mBut here it is :)\u001b[0m\n",
      "\n",
      "\u001b[38;5;208mHelpful Parameters:\u001b[0m\n",
      "  \u001b[36m--help\u001b[0m, \u001b[36m-h\u001b[0m            \u001b[39mShow this help message.\u001b[0m\n",
      "  \u001b[36m--help-all\u001b[0m            \u001b[39mShow help for all commands.\u001b[0m\n",
      "  \u001b[36m--print-shell-completion\u001b[0m \u001b[38;5;36m{bash,zsh,tcsh}\u001b[0m\n",
      "                        \u001b[39mPrint shell completion script.\u001b[0m\n",
      "  \u001b[36m--tui\u001b[0m                 \u001b[39mShow Textual User Interface (TUI).\u001b[0m\n",
      "\n",
      "\u001b[38;5;208mRequired Parameters:\u001b[0m\n",
      "  \u001b[36m--chill\u001b[0m, \u001b[36m--no-chill\u001b[0m   \u001b[39mDid I take my chill pill?\u001b[0m\n",
      "\n"
     ]
    },
    {
     "data": {
      "text/html": [
       "<pre style=\"white-space:pre;overflow-x:auto;line-height:normal;font-family:Menlo,'DejaVu Sans Mono',consolas,'Courier New',monospace\"></pre>\n"
      ],
      "text/plain": []
     },
     "metadata": {},
     "output_type": "display_data"
    },
    {
     "name": "stdout",
     "output_type": "stream",
     "text": [
      "\u001b[38;5;208mUsage:\u001b[0m \u001b[38;5;244mawesome-app\u001b[0m\n",
      "                   [\u001b[36m--help\u001b[0m | \u001b[36m--help-all\u001b[0m | \u001b[36m--print-shell-completion\u001b[0m \u001b[38;5;36m{bash,zsh,tcsh}\u001b[0m | \u001b[36m--tui\u001b[0m]\n",
      "                   \u001b[36m--chill\u001b[0m\n"
     ]
    }
   ],
   "source": [
    "def demo(\n",
    "    chill: Annotated[bool, yapx.arg(help=\"Did I take my chill pill?\")]\n",
    "):\n",
    "    \"\"\"This function provides a demo of argument help.\n",
    "    I didn't intend to also demonstrate function help from docstrings!\n",
    "    But here it is :)\n",
    "    \"\"\"\n",
    "    print(\"Chill?\", chill)\n",
    "\n",
    "parser = yapx.build_parser(demo)\n",
    "\n",
    "parser.print_help()"
   ]
  },
  {
   "cell_type": "markdown",
   "id": "1795dd3b-e8d5-4904-822b-7ebfc6f19393",
   "metadata": {},
   "source": [
    "### Flags\n",
    "\n",
    "Specify flags, including boolean-negation flags."
   ]
  },
  {
   "cell_type": "code",
   "execution_count": 31,
   "id": "bca8c342-0132-4abc-9fe1-cb7bbd21bae4",
   "metadata": {},
   "outputs": [
    {
     "name": "stdout",
     "output_type": "stream",
     "text": [
      "Groovy? True\n"
     ]
    }
   ],
   "source": [
    "def demo(\n",
    "    is_groovy: Annotated[bool, yapx.arg('--groovy/--not-groovy')]\n",
    "):\n",
    "    print(\"Groovy?\", is_groovy)\n",
    "\n",
    "yapx.run(demo, args=[\"--groovy\", \"--not-groovy\", \"--groovy\"])"
   ]
  },
  {
   "cell_type": "markdown",
   "id": "76d5fc00-37e4-4c63-a8bc-02207f899724",
   "metadata": {},
   "source": [
    "### Environment Variables\n",
    "\n",
    "Default argument values can be populated from one or more environment variables:"
   ]
  },
  {
   "cell_type": "code",
   "execution_count": 32,
   "id": "60f9ef98-e4f2-4385-a079-e140f4ab8bfc",
   "metadata": {},
   "outputs": [
    {
     "name": "stdout",
     "output_type": "stream",
     "text": [
      "Editor: vim\n"
     ]
    }
   ],
   "source": [
    "import os\n",
    "\n",
    "os.environ[\"EDITOR\"] = \"vim\"\n",
    "\n",
    "def demo(\n",
    "    editor: Annotated[str, yapx.arg(env=[\"EDITOR\"])]\n",
    "):\n",
    "    print(\"Editor:\", editor)\n",
    "\n",
    "yapx.run(demo, args=[])"
   ]
  },
  {
   "attachments": {},
   "cell_type": "markdown",
   "id": "6e251098-c3e6-4b13-afb1-5340eba20456",
   "metadata": {},
   "source": [
    "### nargs\n",
    "\n",
    "nargs specifies the number of arguments, or values, that a parameter accepts.\n",
    "\n",
    "> Note, the terminology is a bit muddy here; I would also consider it valid to say \"nargs specifies the number of values that an argument accepts\".\n",
    "\n",
    "For example:\n",
    "\n",
    "- When `nargs=0`: `--value`\n",
    "- When `nargs=1`: `--value a`\n",
    "- When `nargs=2`: `--value a b`\n",
    "- When `nargs=3`: `--value a b c`\n",
    "- When `nargs=*`: `--value a b c ...`"
   ]
  },
  {
   "cell_type": "markdown",
   "id": "bf36f283-22ff-4469-bfe8-d1a542cd86d9",
   "metadata": {},
   "source": [
    "### Feature-Flag Parameter\n",
    "\n",
    "When specifying `nargs=0` along with the type `str`, the argument becomes a *feature-flag*. Because the parameter accepts no values, the resulting value is the name of the flag itself. For example:"
   ]
  },
  {
   "cell_type": "code",
   "execution_count": 33,
   "id": "1e0d8d4d-eff3-439e-92ff-2501daec1edc",
   "metadata": {},
   "outputs": [
    {
     "name": "stdout",
     "output_type": "stream",
     "text": [
      "Deploying to: prod\n"
     ]
    }
   ],
   "source": [
    "def demo(\n",
    "    target: Annotated[str, yapx.feature_arg(\"--dev\", \"--test\", \"--prod\")]\n",
    "):\n",
    "    print(\"Deploying to:\", target)\n",
    "\n",
    "yapx.run(demo, args=[\"--prod\"])"
   ]
  },
  {
   "cell_type": "markdown",
   "id": "dff51d02-54eb-446a-8fc1-c6cfa3a53336",
   "metadata": {},
   "source": [
    "Here is an parameter that accepts a list of values."
   ]
  },
  {
   "cell_type": "code",
   "execution_count": 34,
   "id": "735560e6-98cf-4ec8-8459-638b1f5ce34c",
   "metadata": {},
   "outputs": [
    {
     "name": "stdout",
     "output_type": "stream",
     "text": [
      "['tomatoe', 'potatoe', 'ramen-ato?']\n"
     ]
    }
   ],
   "source": [
    "from yapx.types import Annotated\n",
    "\n",
    "def demo(value: Annotated[List[str], yapx.unbounded_arg()]):\n",
    "    print(value)\n",
    "\n",
    "yapx.run(demo, args=[\"--value\", \"tomatoe\", \"potatoe\", \"ramen-ato?\"])"
   ]
  },
  {
   "cell_type": "markdown",
   "id": "29445927-ab16-47c6-b499-55f3ff6c0836",
   "metadata": {},
   "source": [
    "## Reusing Functions\n",
    "\n",
    "You may find that you have a function that you want to call both (1) from the CLI, and (2) from within Python code. Further, suppose you want the function to behave differently dependening on what invoked it.\n",
    "\n",
    "For example, when called from the CLI, I want results printed to the console, but when invoked from Python, I expect that the results are returned (not printed)."
   ]
  },
  {
   "cell_type": "code",
   "execution_count": 35,
   "id": "6e4b196b-02f4-4098-89e6-5e8a64185c1d",
   "metadata": {},
   "outputs": [],
   "source": [
    "def demo(\n",
    "    x: Annotated[int, yapx.arg(default=1)] = 7,\n",
    "    y: Annotated[int, yapx.arg(default=2)] = 8,\n",
    "    z: Annotated[int, yapx.arg(default=3)] = 9,\n",
    "    context: Optional[yapx.Context] = None,\n",
    ") -> List[int]:\n",
    "    print(\n",
    "        f\"x={x} {type(x)}\",\n",
    "        f\"y={y} {type(y)}\",\n",
    "        f\"z={z} {type(z)}\",\n",
    "        f\"CLI context provided: {context is not None}\",\n",
    "        sep=\"\\n\",\n",
    "    )"
   ]
  },
  {
   "cell_type": "code",
   "execution_count": 36,
   "id": "c8ce32f4-c669-420d-aede-0be6bfaa18ee",
   "metadata": {},
   "outputs": [
    {
     "name": "stdout",
     "output_type": "stream",
     "text": [
      "x=1 <class 'int'>\n",
      "y=2 <class 'int'>\n",
      "z=3 <class 'int'>\n",
      "CLI context provided: True\n"
     ]
    }
   ],
   "source": [
    "# Called from Yapx CLI\n",
    "yapx.run(demo, args=[])"
   ]
  },
  {
   "cell_type": "code",
   "execution_count": 37,
   "id": "44756143-2b10-46cb-9a51-f5bd03b82daa",
   "metadata": {},
   "outputs": [
    {
     "name": "stdout",
     "output_type": "stream",
     "text": [
      "x=7 <class 'int'>\n",
      "y=8 <class 'int'>\n",
      "z=9 <class 'int'>\n",
      "CLI context provided: False\n"
     ]
    }
   ],
   "source": [
    "# Called directly from Python\n",
    "demo()"
   ]
  },
  {
   "cell_type": "markdown",
   "id": "bf845e38-ef5d-400d-94b9-94b46dc878b4",
   "metadata": {
    "editable": true,
    "slideshow": {
     "slide_type": ""
    },
    "tags": []
   },
   "source": [
    "## Extra Arguments\n",
    "\n",
    "By default, when an unrecognized argument is given, an error is raised.\n",
    "\n",
    "However, if the function accepts `*args` or `**kwargs`, then any unrecognized arguments are accepted and passed along."
   ]
  },
  {
   "cell_type": "code",
   "execution_count": 38,
   "id": "c7f80d03-6ecc-4f18-999b-8c788170e9af",
   "metadata": {
    "editable": true,
    "slideshow": {
     "slide_type": ""
    },
    "tags": []
   },
   "outputs": [
    {
     "name": "stdout",
     "output_type": "stream",
     "text": [
      "args: ('one=1', 'two=2', 'three=3')\n",
      "kwargs: {'one': 1, 'two': 2, 'three': 3}\n"
     ]
    }
   ],
   "source": [
    "def demo(*args: str, **kwargs: int):\n",
    "    print(\"args:\", args)\n",
    "    print(\"kwargs:\", kwargs)\n",
    "\n",
    "\n",
    "yapx.run(demo, args=[\"one=1\", \"two=2\", \"three=3\"])"
   ]
  },
  {
   "cell_type": "markdown",
   "id": "a7fdce4d-ca38-4866-9a5b-5a3446b21687",
   "metadata": {},
   "source": [
    "## Pydantic\n",
    "\n",
    "yapx performs type-casting and validation of some basic, built-in Python types with no dependencies outside of the standary library. But if the `pydantic` library is present, yapx will rely on it to support even more types. Install it using: `pip install 'yapx[pydantic]'`\n",
    "\n",
    "```python\n",
    ">>> import yapx\n",
    "... from typing import Pattern\n",
    "...\n",
    ">>> def is_match(text: str, pattern: Pattern) -> bool:\n",
    "...     return bool(pattern.fullmatch(text))\n",
    "...\n",
    ">>> yapx.run(is_match, _args=['--text', '123', '--pattern', '\\\\d+'])\n",
    "\n",
    "# with pydantic:\n",
    "True\n",
    "# without pydantic:\n",
    "UnsupportedTypeError: Unsupported type: typing.Pattern\n",
    "\"pip install 'yapx[pydantic]'\" to support more types.\n",
    "```"
   ]
  },
  {
   "cell_type": "markdown",
   "id": "d295bbfb-08c7-4c5a-bb42-2bed6309ff4f",
   "metadata": {},
   "source": [
    "## Constraining Input Values\n",
    "\n",
    "### Pydantic\n",
    "\n",
    "Pydantic is awesome. It even comes with [custom types](https://docs.pydantic.dev/latest/api/types/#pydantic.types.conbytes) that wrap around native types to enforce constraints on input values."
   ]
  },
  {
   "cell_type": "code",
   "execution_count": 39,
   "id": "6d7e79dd-c177-46d8-8de4-0fe7a3675196",
   "metadata": {},
   "outputs": [
    {
     "name": "stdout",
     "output_type": "stream",
     "text": [
      "Joe 123.0\n"
     ]
    }
   ],
   "source": [
    "import yapx\n",
    "\n",
    "from pydantic.types import confloat, constr\n",
    "\n",
    "# `name` only accepts letters.\n",
    "# `age_years` only accepts values between 0 and 200.\n",
    "def demo(\n",
    "    name: constr(pattern='^[A-Za-z]+$'),\n",
    "    age_years: confloat(gt=0, lt=200)\n",
    "):\n",
    "    print(name, age_years)\n",
    "\n",
    "yapx.run(demo, args=[\"--name\", \"Joe\", \"--age-years\", \"123\"])"
   ]
  },
  {
   "cell_type": "markdown",
   "id": "1c3b756a-f6a2-4cd4-8f8d-849b4a1a9988",
   "metadata": {},
   "source": [
    "### Feature-Flag Parameters\n",
    "\n",
    "We've seen this before. A fine way of constraining input using command-line flags."
   ]
  },
  {
   "cell_type": "code",
   "execution_count": 40,
   "id": "5f6bfb3f-2e6f-40af-a437-1aeab9c53a7e",
   "metadata": {},
   "outputs": [
    {
     "name": "stdout",
     "output_type": "stream",
     "text": [
      "Deploying to: prod\n"
     ]
    }
   ],
   "source": [
    "def demo(\n",
    "    target: Annotated[str, yapx.feature_arg(\"--dev\", \"--test\", \"--prod\")]\n",
    "):\n",
    "    print(\"Deploying to:\", target)\n",
    "\n",
    "yapx.run(demo, args=[\"--prod\"])"
   ]
  },
  {
   "cell_type": "markdown",
   "id": "7780df4b-9cb6-483c-baaa-b650695fbfe1",
   "metadata": {},
   "source": [
    "### Literal"
   ]
  },
  {
   "cell_type": "code",
   "execution_count": 41,
   "id": "58d82784-241e-4a3e-99ff-4f527cd6e7b8",
   "metadata": {},
   "outputs": [
    {
     "name": "stdout",
     "output_type": "stream",
     "text": [
      "two\n"
     ]
    }
   ],
   "source": [
    "import yapx\n",
    "from yapx.types import Literal\n",
    "\n",
    "def demo(\n",
    "    value: Literal['one', 'two', 'three'],\n",
    "):\n",
    "    print(value)\n",
    "\n",
    "yapx.run(demo, args=[\"--value\", \"two\"])"
   ]
  },
  {
   "cell_type": "markdown",
   "id": "6980528d-1645-4034-9000-8d1c1e815cd8",
   "metadata": {},
   "source": [
    "### Enum"
   ]
  },
  {
   "cell_type": "code",
   "execution_count": 42,
   "id": "79492db9-4f9a-457f-9138-3898d0647ace",
   "metadata": {
    "editable": true,
    "slideshow": {
     "slide_type": ""
    },
    "tags": []
   },
   "outputs": [
    {
     "name": "stdout",
     "output_type": "stream",
     "text": [
      "TargetEnvironment.prod\n"
     ]
    }
   ],
   "source": [
    "import yapx\n",
    "\n",
    "from enum import Enum, auto\n",
    "\n",
    "class TargetEnvironment(Enum):\n",
    "    dev = auto()\n",
    "    test = auto()\n",
    "    prod = auto()\n",
    "\n",
    "def demo(\n",
    "    value: TargetEnvironment,\n",
    "):\n",
    "    print(value)\n",
    "\n",
    "yapx.run(demo, args=[\"--value\", \"prod\"])"
   ]
  },
  {
   "cell_type": "markdown",
   "id": "50de3166-e608-4495-9af1-e227427e4c60",
   "metadata": {},
   "source": [
    "> Note: Yapx does not support the annotation `List[Literal[...]]`, but sequences of enums are supported, e.g., `List[TargetEnvironment]`.\n",
    "\n",
    "> Another note: the use of `from __future__ import annotations` can cause issues with Yapx parsing type-hints when using non-native classes like custom `Enum`."
   ]
  }
 ],
 "metadata": {
  "kernelspec": {
   "display_name": "yapx",
   "language": "python",
   "name": "yapx"
  },
  "language_info": {
   "codemirror_mode": {
    "name": "ipython",
    "version": 3
   },
   "file_extension": ".py",
   "mimetype": "text/x-python",
   "name": "python",
   "nbconvert_exporter": "python",
   "pygments_lexer": "ipython3",
   "version": "3.7.16"
  }
 },
 "nbformat": 4,
 "nbformat_minor": 5
}
