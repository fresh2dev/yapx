{
 "cells": [
  {
   "cell_type": "markdown",
   "id": "4c84db34-6933-4a91-8db5-64b50438ba7e",
   "metadata": {},
   "source": [
    "*Note: This is a Jupyter notebook. You can explore this notebook interactively by clicking the \"download\" button in the top-right corner.*"
   ]
  },
  {
   "cell_type": "markdown",
   "id": "9123b1ca-d6e8-4f64-ab67-32f1359c6599",
   "metadata": {},
   "source": [
    "# Sequence Parameters\n",
    "\n",
    "A sequence parameter is one annotated with any of: `Sequence`, `List`, `Tuple`, `Set`, or `Dict`\n",
    "\n",
    "When a parameter is provided multiple times, the values are appended to the final result.\n",
    "\n",
    "The type of the values *within* the data structure must be homogenous.\n",
    "\n",
    "For example:"
   ]
  },
  {
   "cell_type": "markdown",
   "id": "32d0f5a0-3e99-4407-945a-82f2690eb204",
   "metadata": {},
   "source": [
    "## List\n",
    "\n",
    "Parameters annotated with `List` or `Sequence` are treated the same."
   ]
  },
  {
   "cell_type": "code",
   "execution_count": 1,
   "id": "fd386cb2-cc73-47a2-b9f4-e195e8e7be29",
   "metadata": {},
   "outputs": [
    {
     "name": "stdout",
     "output_type": "stream",
     "text": [
      "['one', 'two', 'three'] <class 'list'>\n"
     ]
    }
   ],
   "source": [
    "import yapx\n",
    "\n",
    "from typing import List, Sequence, Tuple, Set, Dict\n",
    "\n",
    "\n",
    "def demo(value: List[str]):\n",
    "    print(value, type(value))\n",
    "\n",
    "\n",
    "yapx.run(demo, args=[\"--value\", \"one\", \"--value\", \"two\", \"--value\", \"three\"])"
   ]
  },
  {
   "cell_type": "markdown",
   "id": "59b42cd1-dc11-41a4-8835-982af528e52b",
   "metadata": {},
   "source": [
    "## Tuple\n",
    "\n",
    "Yapx offers limited support for the Tuple type. The type must be homogenous, and the length unbounded. It's effectively treated the same as a List/Sequence."
   ]
  },
  {
   "cell_type": "code",
   "execution_count": 2,
   "id": "7d902455-1de1-477b-b94a-08eb04acdb8f",
   "metadata": {},
   "outputs": [
    {
     "name": "stdout",
     "output_type": "stream",
     "text": [
      "('one', 'two', 'three') <class 'tuple'>\n"
     ]
    }
   ],
   "source": [
    "import yapx\n",
    "\n",
    "\n",
    "def demo(value: Tuple[str, ...]):\n",
    "    print(value, type(value))\n",
    "\n",
    "\n",
    "yapx.run(demo, args=[\"--value\", \"one\", \"--value\", \"two\", \"--value\", \"three\"])"
   ]
  },
  {
   "cell_type": "markdown",
   "id": "46af238b-eb9e-4c58-b7af-663a7fbc043a",
   "metadata": {},
   "source": [
    "## Set\n",
    "\n",
    "`Set` behaves as you would expect:"
   ]
  },
  {
   "cell_type": "code",
   "execution_count": 3,
   "id": "ee7c38d9-a401-4d64-8a2e-4e5bb5566429",
   "metadata": {},
   "outputs": [
    {
     "name": "stdout",
     "output_type": "stream",
     "text": [
      "{'two', 'three', 'one'} <class 'set'>\n"
     ]
    }
   ],
   "source": [
    "import yapx\n",
    "\n",
    "\n",
    "def demo(value: Set[str]):\n",
    "    print(value, type(value))\n",
    "\n",
    "\n",
    "yapx.run(\n",
    "    demo,\n",
    "    args=[\n",
    "        \"--value\",\n",
    "        \"one\",\n",
    "        \"--value\",\n",
    "        \"one\",\n",
    "        \"--value\",\n",
    "        \"two\",\n",
    "        \"--value\",\n",
    "        \"three\",\n",
    "        \"--value\",\n",
    "        \"two\",\n",
    "    ],\n",
    ")"
   ]
  },
  {
   "cell_type": "markdown",
   "id": "be1451a4-bf0e-4490-a19b-88b1cedf2c7d",
   "metadata": {},
   "source": [
    "## Dict\n",
    "\n",
    "Parameters annotated as `Dict` are handled similar to other sequences, but the values are expected to be key-value pairs, separated by an equal sign `=`."
   ]
  },
  {
   "cell_type": "code",
   "execution_count": 4,
   "id": "062068c7-c448-46a8-95a8-773cd2c75079",
   "metadata": {},
   "outputs": [
    {
     "name": "stdout",
     "output_type": "stream",
     "text": [
      "{'one': 1, 'two': 2, 'three': 3} <class 'dict'>\n"
     ]
    }
   ],
   "source": [
    "import yapx\n",
    "\n",
    "from typing import Dict, Optional\n",
    "\n",
    "\n",
    "def demo(value: Dict[str, int]):\n",
    "    print(value, type(value))\n",
    "\n",
    "\n",
    "yapx.run(\n",
    "    demo,\n",
    "    args=[\n",
    "        \"--value\",\n",
    "        \"one=1\",\n",
    "        \"--value\",\n",
    "        \"two=2\",\n",
    "        \"--value\",\n",
    "        \"three=3\",\n",
    "    ],\n",
    ")"
   ]
  },
  {
   "cell_type": "markdown",
   "id": "315173d3-026a-48ab-b5c7-ea32625af9ca",
   "metadata": {},
   "source": [
    "If a value does not contain an equal sign, it's resulting value is `None`. This is actually a clever way to obtain an *ordered* set."
   ]
  },
  {
   "cell_type": "code",
   "execution_count": 5,
   "id": "b5c51570-e3e1-473e-849a-a7dffc6f8cda",
   "metadata": {
    "editable": true,
    "slideshow": {
     "slide_type": ""
    },
    "tags": []
   },
   "outputs": [
    {
     "name": "stdout",
     "output_type": "stream",
     "text": [
      "{'one': None, 'two': None, 'three': None} <class 'dict'>\n"
     ]
    }
   ],
   "source": [
    "import yapx\n",
    "\n",
    "from typing import Dict, Optional\n",
    "\n",
    "\n",
    "def demo(value: Dict[str, Optional[int]]):\n",
    "    print(value, type(value))\n",
    "\n",
    "\n",
    "yapx.run(\n",
    "    demo,\n",
    "    args=[\n",
    "        \"--value\",\n",
    "        \"one\",\n",
    "        \"--value\",\n",
    "        \"one\",\n",
    "        \"--value\",\n",
    "        \"two\",\n",
    "        \"--value\",\n",
    "        \"three\",\n",
    "        \"--value\",\n",
    "        \"two\",\n",
    "    ],\n",
    ")"
   ]
  },
  {
   "cell_type": "markdown",
   "id": "03660b92-823d-484d-819b-3a892b385c37",
   "metadata": {},
   "source": [
    "## Sequences from Strings\n",
    "\n",
    "It is sometimes useful to specify the list values in a string, and necessary when loading sequence values from an environment variable.\n",
    "\n",
    "The string must contain space-separated values contained within square brackets, e.g.: `[hello world]` is parsed to `[\"hello\", \"world\"]`"
   ]
  },
  {
   "cell_type": "code",
   "execution_count": 6,
   "id": "f46512c8-d994-4706-b649-643c388b1d3e",
   "metadata": {},
   "outputs": [],
   "source": [
    "import os\n",
    "\n",
    "os.environ[\"MY_VALUES\"] = \"[a b c ez as 1 2 3]\""
   ]
  },
  {
   "cell_type": "markdown",
   "id": "aa97b7bf-af67-4d63-a6a8-304592c2022b",
   "metadata": {},
   "source": [
    "Works for dictionaries too."
   ]
  },
  {
   "cell_type": "code",
   "execution_count": 7,
   "id": "fff677e8-0515-4c5d-9dae-5fc36df2f2d9",
   "metadata": {},
   "outputs": [],
   "source": [
    "import os\n",
    "\n",
    "os.environ[\"MY_VALUES\"] = \"[a='aye aye' b=bae c=see ez=easy as=af one=1 two=2 three=3]\""
   ]
  },
  {
   "cell_type": "code",
   "execution_count": 8,
   "id": "c7defe46-b1d3-45ff-86ba-84ad3558e7a4",
   "metadata": {},
   "outputs": [
    {
     "data": {
      "text/plain": [
       "{'a': 'aye aye',\n",
       " 'b': 'bae',\n",
       " 'c': 'see',\n",
       " 'ez': 'easy',\n",
       " 'as': 'af',\n",
       " 'one': '1',\n",
       " 'two': '2',\n",
       " 'three': '3'}"
      ]
     },
     "execution_count": 8,
     "metadata": {},
     "output_type": "execute_result"
    }
   ],
   "source": [
    "import yapx\n",
    "from yapx.types import Annotated\n",
    "\n",
    "from typing import Dict\n",
    "\n",
    "\n",
    "def demo(value: Annotated[Dict[str, str], yapx.arg(env=\"MY_VALUES\")]):\n",
    "    return value\n",
    "\n",
    "\n",
    "yapx.run(demo, args=[])"
   ]
  },
  {
   "cell_type": "markdown",
   "id": "76c6a20c-5e5f-4288-a5d0-73f927b6521e",
   "metadata": {},
   "source": [
    "## Multi-Value Parameters\n",
    "\n",
    "The default method of providing sequence values is by providing the argument multiple times, e.g.:\n",
    "\n",
    "```\n",
    "--value one --value two --value three\n",
    "```\n",
    "\n",
    "Leveraging `yapx.arg(nargs=...)`, a parameter can accept multiple values by separating them with a space, like this:\n",
    "\n",
    "```\n",
    "--value one two three\n",
    "```\n",
    "\n",
    "nargs accepts any of:\n",
    "\n",
    "- an integer, specifying a finite number of accepted argument values\n",
    "- `?` meaning `0` or `1`\n",
    "- `*` meaning `0` or more (unbounded)\n",
    "- `+` meaning `1` or more (unbounded)"
   ]
  },
  {
   "cell_type": "code",
   "execution_count": 9,
   "id": "e0a53850-c360-4bf9-af52-230bdf1f83c7",
   "metadata": {},
   "outputs": [
    {
     "name": "stdout",
     "output_type": "stream",
     "text": [
      "[False, True, True, False, True, False, True, False] <class 'list'>\n"
     ]
    }
   ],
   "source": [
    "import yapx\n",
    "from yapx.types import Annotated\n",
    "\n",
    "from typing import List\n",
    "\n",
    "\n",
    "def demo(value: Annotated[List[bool], yapx.arg(nargs=\"+\")]):\n",
    "    print(value, type(value))\n",
    "\n",
    "\n",
    "yapx.run(demo, args=[\"--value\", \"0\", \"1\", \"true\", \"false\", \"t\", \"f\", \"y\", \"n\"])"
   ]
  },
  {
   "cell_type": "markdown",
   "id": "61127de1-427c-46cd-a179-cc40f233a1ea",
   "metadata": {},
   "source": [
    "I prefer this style, but it introduces one issue to be aware of.\n",
    "\n",
    "If the multi-valued parameter precedes a positional argument or subcommand -- like shown below -- the parser will not behave.\n",
    "\n",
    "```\n",
    "--value one two three do-work\n",
    "```"
   ]
  },
  {
   "cell_type": "markdown",
   "id": "a4b6abbc",
   "metadata": {},
   "source": [
    "When an parameter is positional and is type-hinted with a sequence-type, it will be inherently multi-value because there is no flag to provide multiple times."
   ]
  },
  {
   "cell_type": "code",
   "execution_count": 10,
   "id": "1ca93956-c594-4dc8-b60c-0267d139d58d",
   "metadata": {},
   "outputs": [
    {
     "name": "stdout",
     "output_type": "stream",
     "text": [
      "[False, True, True, False, True, False, True, False] <class 'list'>\n"
     ]
    }
   ],
   "source": [
    "import yapx\n",
    "from yapx.types import Annotated\n",
    "\n",
    "from typing import List\n",
    "\n",
    "\n",
    "def demo(value: Annotated[List[bool], yapx.arg(pos=True)]):\n",
    "    print(value, type(value))\n",
    "\n",
    "\n",
    "yapx.run(demo, args=[\"0\", \"1\", \"true\", \"false\", \"t\", \"f\", \"y\", \"n\"])"
   ]
  }
 ],
 "metadata": {
  "kernelspec": {
   "display_name": "Python 3 (ipykernel)",
   "language": "python",
   "name": "python3"
  },
  "language_info": {
   "codemirror_mode": {
    "name": "ipython",
    "version": 3
   },
   "file_extension": ".py",
   "mimetype": "text/x-python",
   "name": "python",
   "nbconvert_exporter": "python",
   "pygments_lexer": "ipython3",
   "version": "3.10.11"
  }
 },
 "nbformat": 4,
 "nbformat_minor": 5
}
